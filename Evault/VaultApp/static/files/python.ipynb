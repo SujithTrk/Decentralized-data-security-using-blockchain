{
 "cells": [
  {
   "cell_type": "markdown",
   "id": "d4c6c973-03ac-40bb-b7b7-c194a50ffc00",
   "metadata": {},
   "source": [
    "a=10\n",
    "b=20\n",
    "print(a)\n",
    "print(b)"
   ]
  },
  {
   "cell_type": "code",
   "execution_count": 5,
   "id": "f611a976-4f9b-48ca-b910-92dd70104c13",
   "metadata": {},
   "outputs": [
    {
     "name": "stdout",
     "output_type": "stream",
     "text": [
      "30\n"
     ]
    }
   ],
   "source": [
    "a=10\n",
    "b=20\n",
    "print(a+b)"
   ]
  },
  {
   "cell_type": "code",
   "execution_count": 6,
   "id": "2024585c-e898-4b96-bcb9-974de248d4a3",
   "metadata": {},
   "outputs": [
    {
     "name": "stdout",
     "output_type": "stream",
     "text": [
      "The value of b is 20\n"
     ]
    }
   ],
   "source": [
    "a=10\n",
    "b=20\n",
    "print(\"The value of b is\",b)"
   ]
  },
  {
   "cell_type": "code",
   "execution_count": 7,
   "id": "7cd68b2f-8dfe-460c-ab78-a35a55acdc5b",
   "metadata": {},
   "outputs": [
    {
     "name": "stdin",
     "output_type": "stream",
     "text": [
      "enter 25\n"
     ]
    }
   ],
   "source": [
    "a=input(\"enter\")\n"
   ]
  },
  {
   "cell_type": "code",
   "execution_count": 8,
   "id": "1705e1d7-d49e-44b8-b95c-3994beb71c00",
   "metadata": {},
   "outputs": [
    {
     "name": "stdin",
     "output_type": "stream",
     "text": [
      "enter 25\n"
     ]
    },
    {
     "name": "stdout",
     "output_type": "stream",
     "text": [
      "25\n"
     ]
    }
   ],
   "source": [
    "a=input(\"enter\")\n",
    "print(a)\n"
   ]
  },
  {
   "cell_type": "code",
   "execution_count": 9,
   "id": "d35934dc-ad99-455b-a4ab-bc21b11c5b03",
   "metadata": {},
   "outputs": [
    {
     "name": "stdin",
     "output_type": "stream",
     "text": [
      "enter the value 47\n"
     ]
    },
    {
     "name": "stdout",
     "output_type": "stream",
     "text": [
      "47.0\n"
     ]
    }
   ],
   "source": [
    "a=float(input(\"enter the value\"))\n",
    "print(a)\n"
   ]
  },
  {
   "cell_type": "markdown",
   "id": "3ca68fee-d304-48e1-94d4-9f1c27a6454d",
   "metadata": {},
   "source": [
    "### Operators"
   ]
  },
  {
   "cell_type": "markdown",
   "id": "155cc4f2-ca49-4896-917a-c8c47edd5442",
   "metadata": {},
   "source": [
    "#### Arithmetic"
   ]
  },
  {
   "cell_type": "code",
   "execution_count": 13,
   "id": "ae7833b5-7b59-450c-a4e0-58c1d1076b40",
   "metadata": {},
   "outputs": [
    {
     "name": "stdout",
     "output_type": "stream",
     "text": [
      "Addition 40\n"
     ]
    }
   ],
   "source": [
    "a=10\n",
    "b=30\n",
    "print(\"Addition\",a+b)"
   ]
  },
  {
   "cell_type": "code",
   "execution_count": 14,
   "id": "7406d81a-2d38-4bec-9656-d7c09c5c5183",
   "metadata": {},
   "outputs": [
    {
     "name": "stdout",
     "output_type": "stream",
     "text": [
      "sub -20\n"
     ]
    }
   ],
   "source": [
    "print(\"sub\",a-b)\n"
   ]
  },
  {
   "cell_type": "code",
   "execution_count": 15,
   "id": "f1f07dda-ce3d-499d-beff-460ee1822066",
   "metadata": {},
   "outputs": [
    {
     "name": "stdout",
     "output_type": "stream",
     "text": [
      "divi 0.3333333333333333\n"
     ]
    }
   ],
   "source": [
    "print(\"divi\",a/b)\n"
   ]
  },
  {
   "cell_type": "code",
   "execution_count": 16,
   "id": "3a425746-cefc-426b-8e5e-2489ce18a344",
   "metadata": {},
   "outputs": [
    {
     "name": "stdout",
     "output_type": "stream",
     "text": [
      "modulus 10\n"
     ]
    }
   ],
   "source": [
    "print(\"modulus\",a%b)\n"
   ]
  },
  {
   "cell_type": "code",
   "execution_count": 17,
   "id": "47fa2a25-f4f1-425d-b978-af989a6a379c",
   "metadata": {},
   "outputs": [
    {
     "name": "stdout",
     "output_type": "stream",
     "text": [
      "floor division 0\n"
     ]
    }
   ],
   "source": [
    "print(\"floor division\",a//b)\n"
   ]
  },
  {
   "cell_type": "code",
   "execution_count": 18,
   "id": "528c39e2-0554-4ef1-afb2-ac5ee79521d3",
   "metadata": {},
   "outputs": [
    {
     "name": "stdout",
     "output_type": "stream",
     "text": [
      "Exponent 100\n"
     ]
    }
   ],
   "source": [
    "print(\"Exponent\",a**2)\n"
   ]
  },
  {
   "cell_type": "markdown",
   "id": "9398ba13-d017-4a8d-b1c2-4d3a631107b4",
   "metadata": {},
   "source": [
    "#### Assignment "
   ]
  },
  {
   "cell_type": "code",
   "execution_count": 19,
   "id": "54ba7cdf-2fbd-4678-a2f4-fb3a7b0650c0",
   "metadata": {},
   "outputs": [
    {
     "name": "stdout",
     "output_type": "stream",
     "text": [
      "30\n"
     ]
    }
   ],
   "source": [
    "a=10\n",
    "a+=20 # a=a+20\n",
    "print(a)"
   ]
  },
  {
   "cell_type": "code",
   "execution_count": 20,
   "id": "ee536b27-d357-4478-93ed-6a2f48e688e5",
   "metadata": {},
   "outputs": [
    {
     "name": "stdout",
     "output_type": "stream",
     "text": [
      "-10\n"
     ]
    }
   ],
   "source": [
    "a=10\n",
    "a-=20 \n",
    "print(a)"
   ]
  },
  {
   "cell_type": "code",
   "execution_count": 20,
   "id": "944ced76-b5bb-4de9-b024-97c435def26e",
   "metadata": {},
   "outputs": [
    {
     "name": "stdout",
     "output_type": "stream",
     "text": [
      "-10\n"
     ]
    }
   ],
   "source": [
    "a=10\n",
    "a-=20 \n",
    "print(a)"
   ]
  },
  {
   "cell_type": "code",
   "execution_count": 20,
   "id": "7e43d711-12f9-4c3e-9c7c-485d06a5e73a",
   "metadata": {},
   "outputs": [
    {
     "name": "stdout",
     "output_type": "stream",
     "text": [
      "-10\n"
     ]
    }
   ],
   "source": [
    "a=10\n",
    "a-=20 \n",
    "print(a)"
   ]
  },
  {
   "cell_type": "code",
   "execution_count": 21,
   "id": "4ebad9ae-994c-40cf-96aa-cae26b07163d",
   "metadata": {},
   "outputs": [
    {
     "name": "stdout",
     "output_type": "stream",
     "text": [
      "200\n"
     ]
    }
   ],
   "source": [
    "a=10\n",
    "a*=20 \n",
    "print(a)"
   ]
  },
  {
   "cell_type": "code",
   "execution_count": 22,
   "id": "2abb387d-003a-4499-ba8b-df6b68f96ba0",
   "metadata": {},
   "outputs": [
    {
     "name": "stdout",
     "output_type": "stream",
     "text": [
      "0.5\n"
     ]
    }
   ],
   "source": [
    "a=10\n",
    "a/=20 \n",
    "print(a)"
   ]
  },
  {
   "cell_type": "code",
   "execution_count": 23,
   "id": "263e2b71-f518-412b-b2dc-572827c37bd0",
   "metadata": {},
   "outputs": [
    {
     "name": "stdout",
     "output_type": "stream",
     "text": [
      "0\n"
     ]
    }
   ],
   "source": [
    "a=10\n",
    "a//=20 \n",
    "print(a)"
   ]
  },
  {
   "cell_type": "code",
   "execution_count": 24,
   "id": "94b19069-a28c-4921-86ee-dcbe8f13d850",
   "metadata": {},
   "outputs": [
    {
     "name": "stdout",
     "output_type": "stream",
     "text": [
      "10\n"
     ]
    }
   ],
   "source": [
    "a=10\n",
    "a%=20 \n",
    "print(a)"
   ]
  },
  {
   "cell_type": "markdown",
   "id": "8b08fa9f-ae92-4d2c-b2bb-7a9362417a2f",
   "metadata": {},
   "source": [
    "#### Bitswise"
   ]
  },
  {
   "cell_type": "code",
   "execution_count": 25,
   "id": "7f24ad3a-c850-4a16-8076-ebbf4d93f360",
   "metadata": {},
   "outputs": [
    {
     "name": "stdout",
     "output_type": "stream",
     "text": [
      "2\n"
     ]
    }
   ],
   "source": [
    "a=2\n",
    "b=3 \n",
    "print(a&b)"
   ]
  },
  {
   "cell_type": "code",
   "execution_count": 26,
   "id": "adfd9551-22a4-4b94-83de-4d3a12d4f5d5",
   "metadata": {},
   "outputs": [
    {
     "name": "stdout",
     "output_type": "stream",
     "text": [
      "3\n"
     ]
    }
   ],
   "source": [
    "print(a|b)"
   ]
  },
  {
   "cell_type": "code",
   "execution_count": 28,
   "id": "ef5f697c-c763-499c-9357-d5b71774a5dc",
   "metadata": {},
   "outputs": [
    {
     "data": {
      "text/plain": [
       "0"
      ]
     },
     "execution_count": 28,
     "metadata": {},
     "output_type": "execute_result"
    }
   ],
   "source": [
    "print(a>>2)"
   ]
  },
  {
   "cell_type": "code",
   "execution_count": 29,
   "id": "a0bcb3dc-1691-4ce5-aff1-c8e923609be6",
   "metadata": {},
   "outputs": [
    {
     "name": "stdout",
     "output_type": "stream",
     "text": [
      "8\n"
     ]
    }
   ],
   "source": [
    "print(a<<2)"
   ]
  },
  {
   "cell_type": "code",
   "execution_count": 2,
   "id": "721743ba-d8a8-40ff-868c-2559c2bafca3",
   "metadata": {},
   "outputs": [
    {
     "name": "stdout",
     "output_type": "stream",
     "text": [
      "[23, 34, 45, 56, 34]\n"
     ]
    }
   ],
   "source": [
    "list1=[23,34,45,56]\n",
    "list1.append(34)\n",
    "print(list1)"
   ]
  },
  {
   "cell_type": "code",
   "execution_count": 5,
   "id": "c23aec29-e15d-4c97-85a7-7fb3a09a7e60",
   "metadata": {},
   "outputs": [
    {
     "name": "stdout",
     "output_type": "stream",
     "text": [
      "[23, 34, 45, 56, 23, 45, 65, 54]\n",
      "[26, 23, 34, 45, 56, 23, 45, 65, 54]\n"
     ]
    }
   ],
   "source": [
    "list1=[23,34,45,56]\n",
    "list1.extend([23,45,65,54])\n",
    "print(list1)\n",
    "list1.insert(0,26)\n",
    "print(list1)"
   ]
  },
  {
   "cell_type": "markdown",
   "id": "d9791757-afb8-4998-bd25-42f1ec0f8a90",
   "metadata": {},
   "source": [
    "##### sorting and Reversing the list"
   ]
  },
  {
   "cell_type": "code",
   "execution_count": 7,
   "id": "079f6722-b099-47be-aae7-61ae9fd1d451",
   "metadata": {},
   "outputs": [
    {
     "name": "stdout",
     "output_type": "stream",
     "text": [
      "[6, 2, 45, 89, 1, 32]\n",
      "[1, 2, 6, 32, 45, 89]\n",
      "[89, 45, 32, 6, 2, 1]\n"
     ]
    }
   ],
   "source": [
    "list3 = [32,1,89,45,2,6]\n",
    "\n",
    "list3.reverse()\n",
    "print(list3)\n",
    "\n",
    "list3.sort()\n",
    "print(list3)\n",
    "\n",
    "list3.sort(reverse=True)#parameters\n",
    "print(list3)"
   ]
  },
  {
   "cell_type": "markdown",
   "id": "d9459614-2161-466d-b281-a498c997403d",
   "metadata": {},
   "source": [
    "#### Slicing in list"
   ]
  },
  {
   "cell_type": "code",
   "execution_count": 9,
   "id": "320761b8-9736-4243-9cba-b17a78be836e",
   "metadata": {},
   "outputs": [
    {
     "name": "stdout",
     "output_type": "stream",
     "text": [
      "67\n",
      "56\n",
      "20\n",
      "21\n",
      "[56, 43, 32]\n",
      "[32, 21, 20]\n",
      "67\n",
      "[21, 20]\n",
      "[56, 43, 32, 21, 20, 67]\n",
      "[56, 21]\n"
     ]
    }
   ],
   "source": [
    "list4 =[56,43,32,21,20,67]\n",
    "\n",
    "print(list4[5])\n",
    "\n",
    "print(list4[0])\n",
    "\n",
    "print(list4[4])\n",
    "\n",
    "print(list4[3])\n",
    "\n",
    "print(list4[0:3]) # 3 is ending index doesnt print\n",
    "\n",
    "print(list4[2:5])\n",
    "\n",
    "print(list4[-1]) \n",
    "\n",
    "print(list4[-3:-1]) \n",
    "\n",
    "print(list4[:])\n",
    "\n",
    "print(list4[::3]) #step index"
   ]
  },
  {
   "cell_type": "markdown",
   "id": "61636f83-86f0-44e0-a907-9b8e6afa05f5",
   "metadata": {},
   "source": [
    "#### Membership Operators\n"
   ]
  },
  {
   "cell_type": "code",
   "execution_count": 10,
   "id": "9ea828f0-351e-478b-bca9-ceb9a702bdd9",
   "metadata": {},
   "outputs": [
    {
     "name": "stdout",
     "output_type": "stream",
     "text": [
      "True\n",
      "False\n",
      "True\n"
     ]
    }
   ],
   "source": [
    "numbers = [1,2,3,4,5]\n",
    "\n",
    "print( 3 in numbers )\n",
    "\n",
    "print( 10 in numbers)\n",
    "\n",
    "print(10 not in numbers)"
   ]
  },
  {
   "cell_type": "markdown",
   "id": "a9e142d8-0992-4149-a0f9-f958e7842d82",
   "metadata": {},
   "source": [
    "### identity operators"
   ]
  },
  {
   "cell_type": "code",
   "execution_count": 11,
   "id": "80ed40e4-d39b-437b-a8fc-f57ffbbda30d",
   "metadata": {},
   "outputs": [
    {
     "name": "stdout",
     "output_type": "stream",
     "text": [
      "False\n",
      "True\n"
     ]
    }
   ],
   "source": [
    "a = 10\n",
    "b = 20\n",
    "\n",
    "print (a is b)\n",
    "print (a is not b)"
   ]
  },
  {
   "cell_type": "markdown",
   "id": "736bdad1-5bd6-4799-a8bd-8c0e4d2e2281",
   "metadata": {},
   "source": [
    "### Tuple"
   ]
  },
  {
   "cell_type": "code",
   "execution_count": 12,
   "id": "584bff2b-5a13-47cc-a410-9d6b9deea488",
   "metadata": {},
   "outputs": [
    {
     "data": {
      "text/plain": [
       "(10, 13, 15, 26, 56, 'sujith')"
      ]
     },
     "execution_count": 12,
     "metadata": {},
     "output_type": "execute_result"
    }
   ],
   "source": [
    "a = (10,13,15,26,56,'sujith')\n",
    "a"
   ]
  },
  {
   "cell_type": "code",
   "execution_count": 13,
   "id": "58b2994c-dbb8-4029-8b72-db8473d9e2e6",
   "metadata": {},
   "outputs": [
    {
     "data": {
      "text/plain": [
       "('mon', 'tue', 'wed', 'thurs', 'fri', 'sat', 'sun')"
      ]
     },
     "execution_count": 13,
     "metadata": {},
     "output_type": "execute_result"
    }
   ],
   "source": [
    "days = ( \"mon\",\"tue\",\"wed\",\"thurs\",\"fri\",\"sat\",\"sun\")\n",
    "days\n"
   ]
  },
  {
   "cell_type": "code",
   "execution_count": 14,
   "id": "ed59b0f0-d38a-4be9-945e-e58584af88ac",
   "metadata": {},
   "outputs": [
    {
     "data": {
      "text/plain": [
       "7"
      ]
     },
     "execution_count": 14,
     "metadata": {},
     "output_type": "execute_result"
    }
   ],
   "source": [
    "len(days)"
   ]
  },
  {
   "cell_type": "code",
   "execution_count": 16,
   "id": "70541862-9cac-4b36-b577-b19d76d977c3",
   "metadata": {},
   "outputs": [],
   "source": [
    "month1 = ('jan','feb','march','april','may','jun','july','august','spet','oct')\n",
    "month2 = ('nov','dec')"
   ]
  },
  {
   "cell_type": "code",
   "execution_count": 19,
   "id": "96324837-d533-4ef8-b6c0-20690dbc4cd3",
   "metadata": {},
   "outputs": [
    {
     "name": "stdout",
     "output_type": "stream",
     "text": [
      "('jan', 'feb', 'march', 'april', 'may', 'jun', 'july', 'august', 'spet', 'oct', 'nov', 'dec')\n"
     ]
    }
   ],
   "source": [
    "month = month1 + month2\n",
    "print(month)"
   ]
  },
  {
   "cell_type": "markdown",
   "id": "43cae9b7-e52f-4114-a27e-aa02f627b579",
   "metadata": {},
   "source": [
    "### creating set"
   ]
  },
  {
   "cell_type": "code",
   "execution_count": 20,
   "id": "3ba20720-f626-4d2d-8820-8e883bcd605f",
   "metadata": {},
   "outputs": [],
   "source": [
    "day={'mon','tue','wed','thu','fri','sat'}\n",
    "week_end={'sat','sun'}"
   ]
  },
  {
   "cell_type": "code",
   "execution_count": 21,
   "id": "37ee4185-34f2-4610-b79d-e7a3373646a8",
   "metadata": {},
   "outputs": [
    {
     "data": {
      "text/plain": [
       "{'fri', 'mon', 'sat', 'thu', 'tue', 'wed'}"
      ]
     },
     "execution_count": 21,
     "metadata": {},
     "output_type": "execute_result"
    }
   ],
   "source": [
    "day={'mon','tue','wed','thu','fri','sat','sat'}\n",
    "day"
   ]
  },
  {
   "cell_type": "code",
   "execution_count": 22,
   "id": "a3987099-7ed9-46b0-8656-1a5efacd8011",
   "metadata": {},
   "outputs": [
    {
     "data": {
      "text/plain": [
       "{'fri', 'mon', 'sat', 'sun', 'thu', 'tue', 'wed'}"
      ]
     },
     "execution_count": 22,
     "metadata": {},
     "output_type": "execute_result"
    }
   ],
   "source": [
    "new_days=day.union(week_end)\n",
    "new_days\n"
   ]
  },
  {
   "cell_type": "code",
   "execution_count": 24,
   "id": "ca39d290-7849-4052-8a24-354af3f2798b",
   "metadata": {},
   "outputs": [
    {
     "data": {
      "text/plain": [
       "{'fri', 'mon', 'sun', 'thu', 'tue', 'wed'}"
      ]
     },
     "execution_count": 24,
     "metadata": {},
     "output_type": "execute_result"
    }
   ],
   "source": [
    "day.symmetric_difference(week_end)"
   ]
  },
  {
   "cell_type": "markdown",
   "id": "74907a9e-4b2e-4dad-ace8-20510f20e702",
   "metadata": {},
   "source": [
    "#### Slcinig\n"
   ]
  },
  {
   "cell_type": "code",
   "execution_count": 1,
   "id": "8685306f-5d93-4f07-84a1-1b83c5a46055",
   "metadata": {},
   "outputs": [],
   "source": [
    "my_set = {10, 20, 30, 40, 50}"
   ]
  },
  {
   "cell_type": "code",
   "execution_count": 2,
   "id": "40c6d774-b58d-48dd-9ce9-8ee12976098b",
   "metadata": {},
   "outputs": [
    {
     "name": "stdout",
     "output_type": "stream",
     "text": [
      "[20, 40, 10]\n"
     ]
    }
   ],
   "source": [
    "my_list = list(my_set)\n",
    "sliced_part = my_list[1:4]\n",
    "print(sliced_part)"
   ]
  },
  {
   "cell_type": "markdown",
   "id": "447f7541-cbcb-4dba-b396-27bb44fbd0b7",
   "metadata": {},
   "source": [
    "#### Some Other Function"
   ]
  },
  {
   "cell_type": "code",
   "execution_count": 5,
   "id": "27ca5325-4337-43f1-8efd-78ad2df307a4",
   "metadata": {},
   "outputs": [
    {
     "data": {
      "text/plain": [
       "{1, 2, 3, 4, 5}"
      ]
     },
     "execution_count": 5,
     "metadata": {},
     "output_type": "execute_result"
    }
   ],
   "source": [
    "x1 = {1,2,3}\n",
    "x1.update({4,5})\n",
    "x1"
   ]
  },
  {
   "cell_type": "code",
   "execution_count": 10,
   "id": "3bc58ac5-5f65-49d0-bb24-8a1aca911a32",
   "metadata": {},
   "outputs": [
    {
     "name": "stdout",
     "output_type": "stream",
     "text": [
      "{'wed', 'tue', 'thur', 'sun', 'mon', 'sat', 'fri'}\n"
     ]
    }
   ],
   "source": [
    "day={'mon','tue','wed','thur','fri','sat','sun'}\n",
    "print(day)"
   ]
  },
  {
   "cell_type": "code",
   "execution_count": 11,
   "id": "35ad1cc7-38c3-41bb-8c7e-6bfca2bc5998",
   "metadata": {},
   "outputs": [
    {
     "name": "stdout",
     "output_type": "stream",
     "text": [
      "{'wed', 'thur', 'sun', 'mon', 'sat', 'fri'}\n"
     ]
    }
   ],
   "source": [
    "day.remove('tue')\n",
    "print(day)"
   ]
  },
  {
   "cell_type": "code",
   "execution_count": 12,
   "id": "7bab9de1-5812-4130-a5e6-0d2e62ae69a9",
   "metadata": {},
   "outputs": [
    {
     "name": "stdout",
     "output_type": "stream",
     "text": [
      "{'wed', 'thur', 'sun', 'mon', 'sat', 'fri'}\n"
     ]
    }
   ],
   "source": [
    "day.discard('tue')\n",
    "print(day)"
   ]
  },
  {
   "cell_type": "code",
   "execution_count": 13,
   "id": "0e4251ef-81c9-4f90-8320-1e48d46c5e2c",
   "metadata": {},
   "outputs": [
    {
     "name": "stdout",
     "output_type": "stream",
     "text": [
      "{'wed', 'thur', 'sun', 'mon', 'sat', 'fri'}\n"
     ]
    }
   ],
   "source": [
    "day.discard('jan')\n",
    "print(day)"
   ]
  },
  {
   "cell_type": "code",
   "execution_count": 14,
   "id": "7f598dc4-923a-48ca-b652-2426368380a4",
   "metadata": {},
   "outputs": [
    {
     "name": "stdout",
     "output_type": "stream",
     "text": [
      "{'wed', 'tue', 'thur', 'sun', 'mon', 'sat', 'fri'}\n",
      "{'wed', 'thur', 'sun', 'mon', 'sat', 'fri'}\n",
      "{'wed', 'thur', 'sun', 'mon', 'sat', 'fri'}\n",
      "{'wed', 'thur', 'sun', 'mon', 'sat', 'fri'}\n"
     ]
    }
   ],
   "source": [
    "day={'mon','tue','wed','thur','fri','sat','sun'}\n",
    "print(day)\n",
    "day.remove('tue')\n",
    "print(day)\n",
    "day.discard('tue')\n",
    "print(day)\n",
    "day.discard('jan')\n",
    "print(day)"
   ]
  },
  {
   "cell_type": "code",
   "execution_count": 15,
   "id": "918a21a9-a076-45cf-83f0-e80c179c1617",
   "metadata": {},
   "outputs": [
    {
     "name": "stdout",
     "output_type": "stream",
     "text": [
      "{'wed', 'tue', 'thur', 'sun', 'mon', 'sat', 'fri'}\n",
      "{'thur', 'sun', 'mon', 'sat', 'fri'}\n"
     ]
    }
   ],
   "source": [
    "day={'mon','tue','wed','thur','fri','sat','sun'}\n",
    "print(day)\n",
    "day.remove('wed')\n",
    "day.pop()\n",
    "day.discard('jan')\n",
    "print(day)"
   ]
  },
  {
   "cell_type": "markdown",
   "id": "b8da219b-e44c-4784-a42f-a8cdb35dfd06",
   "metadata": {},
   "source": [
    "### Dicitory"
   ]
  },
  {
   "cell_type": "code",
   "execution_count": 23,
   "id": "ca838ee4-fd49-4677-aecd-7bb5567e7914",
   "metadata": {},
   "outputs": [
    {
     "name": "stdout",
     "output_type": "stream",
     "text": [
      "89\n",
      "36\n",
      "89\n",
      "dict_keys(['ram', 'mohan', 'ramesh', 'suresh'])\n",
      "dict_values([89, 67, 90, 36])\n",
      "dict_items([('ram', 89), ('mohan', 67), ('ramesh', 90), ('suresh', 36)])\n",
      "{'ram': 89, 'mohan': 67, 'ramesh': 90}\n"
     ]
    },
    {
     "data": {
      "text/plain": [
       "{'ram': 89, 'mohan': 67, 'ramesh': 90, 'manish': 78, 'preethi': 98}"
      ]
     },
     "execution_count": 23,
     "metadata": {},
     "output_type": "execute_result"
    }
   ],
   "source": [
    "students_data={\n",
    "    'ram':89,\n",
    "    'mohan':67,\n",
    "    'ramesh':90,\n",
    "    'suresh':36\n",
    "}\n",
    "\n",
    "print(students_data['ram'])\n",
    "print(students_data['suresh'])\n",
    "print(students_data.get('ram'))\n",
    "print(students_data.keys())\n",
    "print(students_data.values())\n",
    "print(students_data.items())\n",
    "\n",
    "students_data.popitem()\n",
    "print(students_data)\n",
    "\n",
    "students_data.update({'manish':78,'preethi':98})\n",
    "\n",
    "students_data"
   ]
  },
  {
   "cell_type": "code",
   "execution_count": 25,
   "id": "65c97b5e-f7f5-4a3b-8b5d-982faa51416f",
   "metadata": {
    "scrolled": true
   },
   "outputs": [
    {
     "data": {
      "text/plain": [
       "['__add__',\n",
       " '__class__',\n",
       " '__class_getitem__',\n",
       " '__contains__',\n",
       " '__delattr__',\n",
       " '__delitem__',\n",
       " '__dir__',\n",
       " '__doc__',\n",
       " '__eq__',\n",
       " '__format__',\n",
       " '__ge__',\n",
       " '__getattribute__',\n",
       " '__getitem__',\n",
       " '__getstate__',\n",
       " '__gt__',\n",
       " '__hash__',\n",
       " '__iadd__',\n",
       " '__imul__',\n",
       " '__init__',\n",
       " '__init_subclass__',\n",
       " '__iter__',\n",
       " '__le__',\n",
       " '__len__',\n",
       " '__lt__',\n",
       " '__mul__',\n",
       " '__ne__',\n",
       " '__new__',\n",
       " '__reduce__',\n",
       " '__reduce_ex__',\n",
       " '__repr__',\n",
       " '__reversed__',\n",
       " '__rmul__',\n",
       " '__setattr__',\n",
       " '__setitem__',\n",
       " '__sizeof__',\n",
       " '__str__',\n",
       " '__subclasshook__',\n",
       " 'append',\n",
       " 'clear',\n",
       " 'copy',\n",
       " 'count',\n",
       " 'extend',\n",
       " 'index',\n",
       " 'insert',\n",
       " 'pop',\n",
       " 'remove',\n",
       " 'reverse',\n",
       " 'sort']"
      ]
     },
     "execution_count": 25,
     "metadata": {},
     "output_type": "execute_result"
    }
   ],
   "source": [
    "List=[1,2,3]\n",
    "dir(List)"
   ]
  },
  {
   "cell_type": "markdown",
   "id": "298d80e1-e12e-4ec0-b70a-229970e21f3f",
   "metadata": {},
   "source": [
    "### IF Else Statement"
   ]
  },
  {
   "cell_type": "markdown",
   "id": "7bafc250-0490-4677-a73a-c4ad35515828",
   "metadata": {},
   "source": [
    "## student fail or pass"
   ]
  },
  {
   "cell_type": "code",
   "execution_count": 3,
   "id": "8d9a2cc4-c71d-4d9e-8870-c4c28b78462d",
   "metadata": {},
   "outputs": [
    {
     "name": "stdin",
     "output_type": "stream",
     "text": [
      "Enter the name: sujith\n",
      "Enter your marks: 45\n"
     ]
    },
    {
     "name": "stdout",
     "output_type": "stream",
     "text": [
      "sujith is passed in the test\n"
     ]
    }
   ],
   "source": [
    "name=input(\"Enter the name:\")\n",
    "marks=float(input(\"Enter your marks:\"))\n",
    "\n",
    "if marks>35:\n",
    "    print(name,\"is passed in the test\")\n",
    "\n",
    "else:\n",
    "    print(name,\"is not passed in the exam\")"
   ]
  },
  {
   "cell_type": "markdown",
   "id": "f16eb476-f51d-4a06-8bd7-0ad5aff05265",
   "metadata": {},
   "source": [
    "### LEAP YEAR"
   ]
  },
  {
   "cell_type": "code",
   "execution_count": 4,
   "id": "a790d87c-792e-496c-8f8c-219775d34aae",
   "metadata": {},
   "outputs": [
    {
     "name": "stdin",
     "output_type": "stream",
     "text": [
      "Enter a year:  2033\n"
     ]
    },
    {
     "name": "stdout",
     "output_type": "stream",
     "text": [
      "2033 is not a leap year.\n"
     ]
    }
   ],
   "source": [
    "year = int(input(\"Enter a year: \"))\n",
    "if (year % 4 == 0 and year % 100 != 0) or (year % 400 == 0):\n",
    "    print(f\"{year} is a leap year.\")\n",
    "else:\n",
    "    print(f\"{year} is not a leap year.\")"
   ]
  },
  {
   "cell_type": "code",
   "execution_count": 7,
   "id": "e454b7e4-e905-4d1e-8cf2-f332ea836e6f",
   "metadata": {},
   "outputs": [
    {
     "name": "stdin",
     "output_type": "stream",
     "text": [
      "Enter a year:  2024\n"
     ]
    },
    {
     "name": "stdout",
     "output_type": "stream",
     "text": [
      "2024 is a leap year.\n"
     ]
    }
   ],
   "source": [
    "year = int(input(\"Enter a year: \"))\n",
    "if (year % 4 == 0 and year % 100 != 0) or (year % 400 == 0):\n",
    "    print(f\"{year} is a leap year.\")\n",
    "else:\n",
    "    print(f\"{year} is not a leap year.\")"
   ]
  },
  {
   "cell_type": "markdown",
   "id": "9e3b18bd-e9b5-4ce2-88fe-0ffcca9c4db3",
   "metadata": {},
   "source": [
    "### Password Check"
   ]
  },
  {
   "cell_type": "code",
   "execution_count": 6,
   "id": "b60d5b62-0bc3-48da-b8a6-0337fd60770e",
   "metadata": {},
   "outputs": [
    {
     "name": "stdin",
     "output_type": "stream",
     "text": [
      "Enter your Gmail: bbc@gmail.com\n",
      "Enter the password: 2345\n"
     ]
    },
    {
     "name": "stdout",
     "output_type": "stream",
     "text": [
      "you're logged in\n"
     ]
    }
   ],
   "source": [
    "gmails={'abc@gmail.com':1234, 'bbc@gmail.com':2345}\n",
    "\n",
    "gmail=input(\"Enter your Gmail:\")\n",
    "password=int(input(\"Enter the password:\"))\n",
    "\n",
    "if gmails[gmail]==password:\n",
    "             print(\"you're logged in\")\n",
    "else:\n",
    "    print(\"Your Password is wrong\")             \n",
    "\n",
    "             "
   ]
  },
  {
   "cell_type": "code",
   "execution_count": 8,
   "id": "44e4110f-8ec7-4701-a41c-92e36fa2e3f7",
   "metadata": {},
   "outputs": [
    {
     "name": "stdin",
     "output_type": "stream",
     "text": [
      "Enter your Gmail: abc@gmail.com\n",
      "Enter the password: 1234\n"
     ]
    },
    {
     "name": "stdout",
     "output_type": "stream",
     "text": [
      "you're logged in\n"
     ]
    }
   ],
   "source": [
    "gmails={'abc@gmail.com':1234, 'bbc@gmail.com':2345}\n",
    "\n",
    "gmail=input(\"Enter your Gmail:\")\n",
    "password=int(input(\"Enter the password:\"))\n",
    "\n",
    "if gmails[gmail]==password:\n",
    "             print(\"you're logged in\")\n",
    "else:\n",
    "    print(\"Your Password is wrong\")             \n",
    "\n",
    "             "
   ]
  },
  {
   "cell_type": "code",
   "execution_count": 9,
   "id": "87867585-b616-4a0f-bf27-01d8a2558d47",
   "metadata": {},
   "outputs": [
    {
     "name": "stdout",
     "output_type": "stream",
     "text": [
      "the value of a is 10 the value b is  24\n",
      "the value of a is 10 the value b is 24\n"
     ]
    }
   ],
   "source": [
    "a=10\n",
    "b=24\n",
    "\n",
    "print(\"the value of a is\",a,\"the value b is \",b)\n",
    "print(f\"the value of a is {a} the value b is {b}\")"
   ]
  },
  {
   "cell_type": "markdown",
   "id": "1ab0426b-317c-426a-93e0-ab4677ad6977",
   "metadata": {},
   "source": [
    "### Elif"
   ]
  },
  {
   "cell_type": "code",
   "execution_count": 11,
   "id": "272f7153-44b8-467e-b6a7-0c6a331fa60c",
   "metadata": {},
   "outputs": [
    {
     "name": "stdin",
     "output_type": "stream",
     "text": [
      "Enter the Name: sujith\n",
      "Enter your marks: 85\n"
     ]
    },
    {
     "name": "stdout",
     "output_type": "stream",
     "text": [
      "sujith Grade:B\n"
     ]
    }
   ],
   "source": [
    "name=input(\"Enter the Name:\")\n",
    "marks=float(input(\"Enter your marks:\"))\n",
    "\n",
    "if marks >= 90 and marks <=100:\n",
    "            print(name,'Grade:A')\n",
    "elif marks >= 80 and marks <90:\n",
    "            print(name,'Grade:B')\n",
    "elif marks >= 70 and marks <80:\n",
    "            print(name,'Grade:C')\n",
    "elif marks >= 60 and marks <70:\n",
    "            print(name,'Grade:D')\n",
    "elif marks >= 50 and marks <60:\n",
    "            print(name,'Grade:E')\n",
    "elif marks >100:\n",
    "            print('invaled Entry')\n",
    "else:\n",
    "    print(name,\"Focus on studies....\")"
   ]
  },
  {
   "cell_type": "code",
   "execution_count": 16,
   "id": "00e2d803-fb5c-4d82-b982-ba447b70568d",
   "metadata": {},
   "outputs": [
    {
     "name": "stdin",
     "output_type": "stream",
     "text": [
      "Enter the Name: sujith\n",
      "Enter your marks: 112\n"
     ]
    },
    {
     "name": "stdout",
     "output_type": "stream",
     "text": [
      "invalid Entry\n"
     ]
    }
   ],
   "source": [
    "name=input(\"Enter the Name:\")\n",
    "marks=float(input(\"Enter your marks:\"))\n",
    "\n",
    "if marks >= 90 and marks <=100:\n",
    "            print(name,'Grade:A')\n",
    "elif marks >= 80 and marks <90:\n",
    "            print(name,'Grade:B')\n",
    "elif marks >= 70 and marks <80:\n",
    "            print(name,'Grade:C')\n",
    "elif marks >= 60 and marks <70:\n",
    "            print(name,'Grade:D')\n",
    "elif marks >= 50 and marks <60:\n",
    "            print(name,'Grade:E')\n",
    "elif marks >100:\n",
    "            print('invalid Entry')\n",
    "else:\n",
    "    print(name,\"Focus on studies....\")"
   ]
  },
  {
   "cell_type": "code",
   "execution_count": 13,
   "id": "9c7668d0-87cb-4f85-81e3-c237b8d6209a",
   "metadata": {},
   "outputs": [
    {
     "name": "stdin",
     "output_type": "stream",
     "text": [
      "Enter the Name: sujith\n",
      "Enter your marks: 45\n"
     ]
    },
    {
     "name": "stdout",
     "output_type": "stream",
     "text": [
      "sujith Focus on studies....\n"
     ]
    }
   ],
   "source": [
    "name=input(\"Enter the Name:\")\n",
    "marks=float(input(\"Enter your marks:\"))\n",
    "\n",
    "if marks >= 90 and marks <=100:\n",
    "            print(name,'Grade:A')\n",
    "elif marks >= 80 and marks <90:\n",
    "            print(name,'Grade:B')\n",
    "elif marks >= 70 and marks <80:\n",
    "            print(name,'Grade:C')\n",
    "elif marks >= 60 and marks <70:\n",
    "            print(name,'Grade:D')\n",
    "elif marks >= 50 and marks <60:\n",
    "            print(name,'Grade:E')\n",
    "elif marks >100:\n",
    "            print('invalid Entry')\n",
    "else:\n",
    "    print(name,\"Focus on studies....\")"
   ]
  },
  {
   "cell_type": "code",
   "execution_count": 22,
   "id": "70fd8e6f-55b6-43d3-be3b-2b40c7d35560",
   "metadata": {},
   "outputs": [
    {
     "name": "stdin",
     "output_type": "stream",
     "text": [
      "Enter your gmail: sdf@gmail.com\n",
      "Enter the password: 6787\n"
     ]
    },
    {
     "name": "stdout",
     "output_type": "stream",
     "text": [
      "user sdf@gmail.com Logged in\n"
     ]
    }
   ],
   "source": [
    "gmails={'abc@gmail.com':1234, 'sdf@gmail.com':6787}\n",
    "\n",
    "gmail=input(\"Enter your gmail:\")\n",
    "\n",
    "if gmail in gmails.keys():\n",
    "    password=int(input('Enter the password:'))\n",
    "    if gmails[gmail]==password:\n",
    "        print('user',gmail,'Logged in')\n",
    "    else:\n",
    "        print('password is incorrect')\n",
    "\n",
    "else:\n",
    "    print('email is not found')\n",
    "    "
   ]
  },
  {
   "cell_type": "code",
   "execution_count": 23,
   "id": "76df491f-de02-4091-ac96-6adb586ec146",
   "metadata": {},
   "outputs": [
    {
     "name": "stdin",
     "output_type": "stream",
     "text": [
      "Enter your gmail: abc@gmail.com\n",
      "Enter the password: 34654\n"
     ]
    },
    {
     "name": "stdout",
     "output_type": "stream",
     "text": [
      "password is incorrect\n"
     ]
    }
   ],
   "source": [
    "gmails={'abc@gmail.com':1234, 'sdf@gmail.com':6787}\n",
    "\n",
    "gmail=input(\"Enter your gmail:\")\n",
    "\n",
    "if gmail in gmails.keys():\n",
    "    password=int(input('Enter the password:'))\n",
    "    if gmails[gmail]==password:\n",
    "        print('user',gmail,'Logged in')\n",
    "    else:\n",
    "        print('password is incorrect')\n",
    "\n",
    "else:\n",
    "    print('email is not found')\n",
    "    "
   ]
  },
  {
   "cell_type": "code",
   "execution_count": 24,
   "id": "cd225121-0df7-48e3-b630-72348259924e",
   "metadata": {},
   "outputs": [
    {
     "name": "stdin",
     "output_type": "stream",
     "text": [
      "Enter your gmail: abd@gmail.com\n"
     ]
    },
    {
     "name": "stdout",
     "output_type": "stream",
     "text": [
      "email is not found\n"
     ]
    }
   ],
   "source": [
    "gmails={'abc@gmail.com':1234, 'sdf@gmail.com':6787}\n",
    "\n",
    "gmail=input(\"Enter your gmail:\")\n",
    "\n",
    "if gmail in gmails.keys():\n",
    "    password=int(input('Enter the password:'))\n",
    "    if gmails[gmail]==password:\n",
    "        print('user',gmail,'Logged in')\n",
    "    else:\n",
    "        print('password is incorrect')\n",
    "\n",
    "else:\n",
    "    print('email is not found')\n",
    "    "
   ]
  },
  {
   "cell_type": "code",
   "execution_count": 28,
   "id": "e6001f29-1abf-4c7c-add9-e37c19793372",
   "metadata": {},
   "outputs": [
    {
     "name": "stdin",
     "output_type": "stream",
     "text": [
      "Enter you Experience: 4\n",
      "Enter you degree: EEE\n"
     ]
    },
    {
     "name": "stdout",
     "output_type": "stream",
     "text": [
      "candidate does not meet the education criteria.\n"
     ]
    }
   ],
   "source": [
    "Experience=float(input('Enter you Experience:'))\n",
    "degree=input('Enter you degree:')\n",
    "\n",
    "if Experience >= 3:\n",
    "    if degree == \"Masters\":\n",
    "        print(\"Candidate is shortlisted for interview.\")\n",
    "    elif degree == \"Bachelors\":\n",
    "         print(\"Candidate is on the waiting list.\")\n",
    "    else:\n",
    "        print(\"candidate does not meet the education criteria.\")\n",
    "else:\n",
    "    print(\"candidate lacks sufficient experience..\")"
   ]
  },
  {
   "cell_type": "markdown",
   "id": "c5d85eca-fa9f-4d09-94e9-fd3621685923",
   "metadata": {},
   "source": [
    "### Task program"
   ]
  },
  {
   "cell_type": "code",
   "execution_count": 2,
   "id": "9ed65bdc-322f-4713-8cca-fa2d6dc11c3e",
   "metadata": {},
   "outputs": [
    {
     "name": "stdin",
     "output_type": "stream",
     "text": [
      "Enter the person's name:  Ram\n"
     ]
    },
    {
     "name": "stdout",
     "output_type": "stream",
     "text": [
      "Ram: 2000\n"
     ]
    }
   ],
   "source": [
    "balances = {'Ram': 2000, 'Sujith': 1500, 'kumar': 2500}\n",
    "person = input(\"Enter the person's name: \")\n",
    "if person in balances:\n",
    "    print(f\"{person}: {balances[person]}\")\n",
    "else:\n",
    "    print(\"Person not found.\")\n"
   ]
  },
  {
   "cell_type": "code",
   "execution_count": 3,
   "id": "7ac80571-6030-4761-98c9-01d03eefd73c",
   "metadata": {},
   "outputs": [
    {
     "name": "stdin",
     "output_type": "stream",
     "text": [
      "Enter your name:  Ram\n",
      "Enter your password:  pass123\n",
      "Enter your choice (withdraw, balance, deposit):  withdraw\n",
      "Enter amount to withdraw:  13\n"
     ]
    },
    {
     "name": "stdout",
     "output_type": "stream",
     "text": [
      "Withdrawal successful. New balance: 1987.0\n"
     ]
    }
   ],
   "source": [
    "balances = {'Ram': 2000, 'Sujith': 2500, 'kumar': 3200}\n",
    "passwords = {'Ram': 'pass123', 'sujith': 'pass456', 'kumar': 'pass789'}\n",
    "\n",
    "person = input(\"Enter your name: \")\n",
    "if person in balances:\n",
    "    password = input(\"Enter your password: \")\n",
    "    if password == passwords[person]:\n",
    "        choice = input(\"Enter your choice (withdraw, balance, deposit): \").lower()\n",
    "        if choice == \"withdraw\":\n",
    "            amount = float(input(\"Enter amount to withdraw: \"))\n",
    "            if amount <= balances[person]:\n",
    "                balances[person] -= amount\n",
    "                print(f\"Withdrawal successful. New balance: {balances[person]}\")\n",
    "            else:\n",
    "                print(\"Insufficient balance.\")\n",
    "        elif choice == \"balance\":\n",
    "            print(f\"Your balance is: {balances[person]}\")\n",
    "        else:  \n",
    "            amount = float(input(\"Enter amount to deposit: \"))\n",
    "            balances[person] += amount\n",
    "            print(f\"Deposit successful. New balance: {balances[person]}\")\n",
    "    else:\n",
    "        print(\"Incorrect password.\")\n",
    "else:\n",
    "    print(\"Person not found.\")\n"
   ]
  },
  {
   "cell_type": "markdown",
   "id": "31e57e93-a62c-4611-9f25-258398343f6a",
   "metadata": {},
   "source": [
    "#### while true"
   ]
  },
  {
   "cell_type": "code",
   "execution_count": null,
   "id": "ec501470-27d5-4e1d-b745-0664af4d44a5",
   "metadata": {},
   "outputs": [
    {
     "name": "stdout",
     "output_type": "stream",
     "text": [
      "Menu:\n",
      "1. meals\n",
      "2. biriyani\n",
      "3. fried rice\n",
      "4. ghee rice\n",
      "5. Exit\n"
     ]
    }
   ],
   "source": [
    "while True:\n",
    "    print(\"Menu:\")\n",
    "    print(\"1. meals\")\n",
    "    print(\"2. biriyani\")\n",
    "    print(\"3. fried rice\")\n",
    "    print(\"4. ghee rice\")\n",
    "    print(\"5. Exit\")\n",
    "\n",
    "    choice = int(input(\"choose an option(1,2,3,4,5):\"))\n",
    "\n",
    "    if choice == 1:\n",
    "        print(\"Your order meals is placed\")\n",
    "    elif choice == 2:\n",
    "        print(\"Your order biriyani is placed\")\n",
    "    elif choice == 3:\n",
    "        print(\"Your order fried rice is placed\")\n",
    "    elif choice == 4:\n",
    "        print(\"Your order ghee rice is placed\")\n",
    "    elif choice == 5:\n",
    "    \n",
    "        print(\"Exit\")\n",
    "        break\n",
    "    \n",
    "    else:\n",
    "        print(\" invalued choice.please try again.\")"
   ]
  },
  {
   "cell_type": "markdown",
   "id": "f1735201-1baf-48ee-90cf-42626420225c",
   "metadata": {},
   "source": [
    "### For Loop"
   ]
  },
  {
   "cell_type": "code",
   "execution_count": 2,
   "id": "b615a392-068c-47fd-8d19-305d44f181fc",
   "metadata": {},
   "outputs": [
    {
     "name": "stdout",
     "output_type": "stream",
     "text": [
      "[0, 1, 2, 3, 4, 5, 6, 7, 8, 9]\n",
      "[1, 2, 3, 4, 5, 6, 7, 8, 9, 10]\n",
      "[0, -1, -2, -3, -4, -5, -6, -7, -8, -9]\n",
      "[0, 2, 4, 6, 8]\n"
     ]
    }
   ],
   "source": [
    "print(list(range(10)))\n",
    "print(list(range(1,11)))\n",
    "print(list(range(0,-10,-1)))\n",
    "print(list(range(0,10,2)))"
   ]
  },
  {
   "cell_type": "code",
   "execution_count": 5,
   "id": "6f6c3c4e-f249-400d-9698-bb7ea32d2f93",
   "metadata": {},
   "outputs": [
    {
     "name": "stdin",
     "output_type": "stream",
     "text": [
      "Enter the table 2\n"
     ]
    },
    {
     "name": "stdout",
     "output_type": "stream",
     "text": [
      "2*1=2\n",
      "2*2=4\n",
      "2*3=6\n",
      "2*4=8\n",
      "2*5=10\n",
      "2*6=12\n",
      "2*7=14\n",
      "2*8=16\n",
      "2*9=18\n",
      "2*10=20\n",
      "2*11=22\n",
      "2*12=24\n",
      "2*13=26\n",
      "2*14=28\n",
      "2*15=30\n",
      "2*16=32\n",
      "2*17=34\n",
      "2*18=36\n",
      "2*19=38\n",
      "2*20=40\n"
     ]
    }
   ],
   "source": [
    "table = int(input(\"Enter the table\"))\n",
    "for i in range(1,21):\n",
    "    print(f\"{table}*{i}={table*i}\")"
   ]
  },
  {
   "cell_type": "markdown",
   "id": "66f20b95-d4af-4b85-8c6c-7267beee0c8d",
   "metadata": {},
   "source": [
    "### Iterating over list"
   ]
  },
  {
   "cell_type": "code",
   "execution_count": 6,
   "id": "2b3d0615-999e-4bbd-8f1e-4232cbd4c5a2",
   "metadata": {},
   "outputs": [
    {
     "name": "stdout",
     "output_type": "stream",
     "text": [
      "indian\n",
      "chinese\n",
      "italian\n"
     ]
    }
   ],
   "source": [
    "cuisine=[\"indian\",\"chinese\",\"italian\"]\n",
    "for i in cuisine:\n",
    "    print(i)"
   ]
  },
  {
   "cell_type": "code",
   "execution_count": 7,
   "id": "2722b645-92ee-4f6d-96f8-5806ca7b42e0",
   "metadata": {},
   "outputs": [
    {
     "name": "stdout",
     "output_type": "stream",
     "text": [
      "1 x 1 = 1\n",
      "1 x 2 = 2\n",
      "1 x 3 = 3\n",
      "1 x 4 = 4\n",
      "1 x 5 = 5\n",
      "1 x 6 = 6\n",
      "1 x 7 = 7\n",
      "1 x 8 = 8\n",
      "1 x 9 = 9\n",
      "1 x 10 = 10\n",
      "\n",
      "2 x 1 = 2\n",
      "2 x 2 = 4\n",
      "2 x 3 = 6\n",
      "2 x 4 = 8\n",
      "2 x 5 = 10\n",
      "2 x 6 = 12\n",
      "2 x 7 = 14\n",
      "2 x 8 = 16\n",
      "2 x 9 = 18\n",
      "2 x 10 = 20\n",
      "\n",
      "3 x 1 = 3\n",
      "3 x 2 = 6\n",
      "3 x 3 = 9\n",
      "3 x 4 = 12\n",
      "3 x 5 = 15\n",
      "3 x 6 = 18\n",
      "3 x 7 = 21\n",
      "3 x 8 = 24\n",
      "3 x 9 = 27\n",
      "3 x 10 = 30\n",
      "\n",
      "4 x 1 = 4\n",
      "4 x 2 = 8\n",
      "4 x 3 = 12\n",
      "4 x 4 = 16\n",
      "4 x 5 = 20\n",
      "4 x 6 = 24\n",
      "4 x 7 = 28\n",
      "4 x 8 = 32\n",
      "4 x 9 = 36\n",
      "4 x 10 = 40\n",
      "\n",
      "5 x 1 = 5\n",
      "5 x 2 = 10\n",
      "5 x 3 = 15\n",
      "5 x 4 = 20\n",
      "5 x 5 = 25\n",
      "5 x 6 = 30\n",
      "5 x 7 = 35\n",
      "5 x 8 = 40\n",
      "5 x 9 = 45\n",
      "5 x 10 = 50\n",
      "\n",
      "6 x 1 = 6\n",
      "6 x 2 = 12\n",
      "6 x 3 = 18\n",
      "6 x 4 = 24\n",
      "6 x 5 = 30\n",
      "6 x 6 = 36\n",
      "6 x 7 = 42\n",
      "6 x 8 = 48\n",
      "6 x 9 = 54\n",
      "6 x 10 = 60\n",
      "\n",
      "7 x 1 = 7\n",
      "7 x 2 = 14\n",
      "7 x 3 = 21\n",
      "7 x 4 = 28\n",
      "7 x 5 = 35\n",
      "7 x 6 = 42\n",
      "7 x 7 = 49\n",
      "7 x 8 = 56\n",
      "7 x 9 = 63\n",
      "7 x 10 = 70\n",
      "\n",
      "8 x 1 = 8\n",
      "8 x 2 = 16\n",
      "8 x 3 = 24\n",
      "8 x 4 = 32\n",
      "8 x 5 = 40\n",
      "8 x 6 = 48\n",
      "8 x 7 = 56\n",
      "8 x 8 = 64\n",
      "8 x 9 = 72\n",
      "8 x 10 = 80\n",
      "\n",
      "9 x 1 = 9\n",
      "9 x 2 = 18\n",
      "9 x 3 = 27\n",
      "9 x 4 = 36\n",
      "9 x 5 = 45\n",
      "9 x 6 = 54\n",
      "9 x 7 = 63\n",
      "9 x 8 = 72\n",
      "9 x 9 = 81\n",
      "9 x 10 = 90\n",
      "\n",
      "10 x 1 = 10\n",
      "10 x 2 = 20\n",
      "10 x 3 = 30\n",
      "10 x 4 = 40\n",
      "10 x 5 = 50\n",
      "10 x 6 = 60\n",
      "10 x 7 = 70\n",
      "10 x 8 = 80\n",
      "10 x 9 = 90\n",
      "10 x 10 = 100\n",
      "\n"
     ]
    }
   ],
   "source": [
    "for i in range(1, 11):  \n",
    "    for j in range(1, 11): \n",
    "        print(f\"{i} x {j} = {i * j}\")  \n",
    "    print()"
   ]
  },
  {
   "cell_type": "code",
   "execution_count": 8,
   "id": "9e7cbda2-4694-43b0-92b5-2fd9635fd691",
   "metadata": {},
   "outputs": [
    {
     "name": "stdout",
     "output_type": "stream",
     "text": [
      "key:j,programminglanguage:java\n",
      "key:p,programminglanguage:python\n"
     ]
    }
   ],
   "source": [
    "programminglanguages = {'j':'java','p':'python'}\n",
    "for key,value in programminglanguages.items():\n",
    "    print(f'key:{key},programminglanguage:{value}')"
   ]
  },
  {
   "cell_type": "code",
   "execution_count": 1,
   "id": "1acae33d-9a15-47aa-b07a-60d382880544",
   "metadata": {},
   "outputs": [
    {
     "name": "stdout",
     "output_type": "stream",
     "text": [
      "[1, 2, 3, 4, 5, 6, 7, 8, 9]\n"
     ]
    }
   ],
   "source": [
    "list_of_lists = [[1, 2, 3], [4, 5, 6], [7, 8, 9]]\n",
    "flattened_list = []\n",
    "\n",
    "for sublist in list_of_lists:\n",
    "    for item in sublist:\n",
    "        flattened_list.append(item)\n",
    "\n",
    "print(flattened_list)\n"
   ]
  },
  {
   "cell_type": "markdown",
   "id": "054c956a-0c44-4a5c-80f1-29d83c0358e3",
   "metadata": {},
   "source": [
    "### Function in python"
   ]
  },
  {
   "cell_type": "code",
   "execution_count": 2,
   "id": "8d7e52af-93e3-4920-97f3-f0d8df85e784",
   "metadata": {},
   "outputs": [],
   "source": [
    "def greet():\n",
    "    print(\"Welcome to programming world\")"
   ]
  },
  {
   "cell_type": "code",
   "execution_count": 3,
   "id": "df0600ee-37ef-4426-bc47-9c44d825ab53",
   "metadata": {},
   "outputs": [
    {
     "name": "stdout",
     "output_type": "stream",
     "text": [
      "Welcome to programming world\n"
     ]
    }
   ],
   "source": [
    "greet()"
   ]
  },
  {
   "cell_type": "code",
   "execution_count": 7,
   "id": "181aee90-c31f-40ac-81ca-90df69ce88c7",
   "metadata": {},
   "outputs": [],
   "source": [
    "def greet(name):\n",
    "    print(\"Hello\",name)"
   ]
  },
  {
   "cell_type": "code",
   "execution_count": 8,
   "id": "b8545226-f206-4145-a0ab-6d59ab7249c5",
   "metadata": {},
   "outputs": [
    {
     "name": "stdout",
     "output_type": "stream",
     "text": [
      "Hello sujith\n"
     ]
    }
   ],
   "source": [
    "greet(\"sujith\")"
   ]
  },
  {
   "cell_type": "markdown",
   "id": "dcb96f31-bd18-45d2-a441-1a7bb73f7f3d",
   "metadata": {},
   "source": [
    "### Positional arguement"
   ]
  },
  {
   "cell_type": "code",
   "execution_count": 11,
   "id": "61cb3014-93e3-47a0-9dde-af511e599b24",
   "metadata": {},
   "outputs": [
    {
     "data": {
      "text/plain": [
       "15"
      ]
     },
     "execution_count": 11,
     "metadata": {},
     "output_type": "execute_result"
    }
   ],
   "source": [
    "def sum(a,b):\n",
    "    sum=a+b\n",
    "    return sum\n",
    "\n",
    "sum(9,6)"
   ]
  },
  {
   "cell_type": "code",
   "execution_count": 13,
   "id": "5c2e5f9a-cd80-4059-b020-44cba732d9a9",
   "metadata": {},
   "outputs": [
    {
     "name": "stdout",
     "output_type": "stream",
     "text": [
      "username:ramesh\n",
      "Email:ramesh1234@gmail.com\n"
     ]
    }
   ],
   "source": [
    "def user_info(email,username):\n",
    "    print(f\"username:{username}\")\n",
    "    print(f\"Email:{email}\")\n",
    "\n",
    "user_info(\"ramesh1234@gmail.com\",\"ramesh\")"
   ]
  },
  {
   "cell_type": "markdown",
   "id": "b8f888ae-1140-4798-bb2a-03403a886e16",
   "metadata": {},
   "source": [
    "#### KEYWORD ARGUMENT"
   ]
  },
  {
   "cell_type": "code",
   "execution_count": 14,
   "id": "8d9d3620-63be-4c79-8446-67dc430c2727",
   "metadata": {},
   "outputs": [
    {
     "name": "stdout",
     "output_type": "stream",
     "text": [
      "Employee name is sujith\n",
      "age is 21\n",
      "place is Chennai\n"
     ]
    }
   ],
   "source": [
    "def info(name,age,place):\n",
    "    print(f\"Employee name is {name}\")\n",
    "    print(f\"age is {age}\")\n",
    "    print(f\"place is {place}\")\n",
    "\n",
    "info(name=\"sujith\" ,place=\"Chennai\", age=21)"
   ]
  },
  {
   "cell_type": "markdown",
   "id": "5805c9de-8409-41e9-8094-b568e8bafa7b",
   "metadata": {},
   "source": [
    "### Variable length arguments"
   ]
  },
  {
   "cell_type": "code",
   "execution_count": 16,
   "id": "5fd7b985-2a01-49fc-8dfe-54ded5c21574",
   "metadata": {},
   "outputs": [
    {
     "data": {
      "text/plain": [
       "39"
      ]
     },
     "execution_count": 16,
     "metadata": {},
     "output_type": "execute_result"
    }
   ],
   "source": [
    "def sum1(*values):\n",
    "    sum2=0\n",
    "    for i in values:\n",
    "        sum2=sum2+i\n",
    "    return sum2\n",
    "\n",
    "sum1(4,5,6,7,8,9)"
   ]
  },
  {
   "cell_type": "code",
   "execution_count": 17,
   "id": "a8c6a066-af1f-4b31-98db-e9a7c07b6718",
   "metadata": {},
   "outputs": [
    {
     "name": "stdout",
     "output_type": "stream",
     "text": [
      "ram studying in psy at grade 3\n",
      "suresh studying in psy at grade 3\n",
      "ramesh studying in psy at grade 3\n"
     ]
    }
   ],
   "source": [
    "def students(schoolname,grade,*name):\n",
    "    for i in name:\n",
    "        print(f\"{i} studying in {schoolname} at grade {grade}\")\n",
    "\n",
    "students('psy',3,'ram','suresh','ramesh')"
   ]
  },
  {
   "cell_type": "code",
   "execution_count": 21,
   "id": "9b6d490a-06b2-4c1f-95e1-4e47842e1803",
   "metadata": {},
   "outputs": [
    {
     "name": "stdout",
     "output_type": "stream",
     "text": [
      "[info]user logged in from IP 192.168.1.1 "
     ]
    }
   ],
   "source": [
    "def log_message(level,*messages):\n",
    "    print(f\"[{level}]\",end=\"\")\n",
    "    for message in messages:\n",
    "        print(message, end=\" \")\n",
    "\n",
    "log_message(\"info\", \"user logged in\", \"from IP 192.168.1.1\")"
   ]
  },
  {
   "cell_type": "markdown",
   "id": "f23dc41c-1147-4149-948a-a25e89c0cf38",
   "metadata": {},
   "source": [
    "#### default parametey"
   ]
  },
  {
   "cell_type": "code",
   "execution_count": 22,
   "id": "b2ca845c-6cdb-45e0-8080-94977fe25916",
   "metadata": {},
   "outputs": [
    {
     "data": {
      "text/plain": [
       "33"
      ]
     },
     "execution_count": 22,
     "metadata": {},
     "output_type": "execute_result"
    }
   ],
   "source": [
    "def sum(a=7,b=10):\n",
    "    c=a+b\n",
    "    return c\n",
    "\n",
    "sum(a=10,b=23)"
   ]
  },
  {
   "cell_type": "code",
   "execution_count": 1,
   "id": "584fd954-e279-462f-8fd6-6b917ca4cb10",
   "metadata": {},
   "outputs": [
    {
     "data": {
      "text/plain": [
       "datetime.date(2025, 4, 9)"
      ]
     },
     "execution_count": 1,
     "metadata": {},
     "output_type": "execute_result"
    }
   ],
   "source": [
    "import datetime as dt\n",
    "dt.date.today()"
   ]
  },
  {
   "cell_type": "markdown",
   "id": "0ff69279-820e-4384-b35d-5bef2c221899",
   "metadata": {},
   "source": [
    "### Library Management"
   ]
  },
  {
   "cell_type": "code",
   "execution_count": 7,
   "id": "28845e6f-1076-4ff9-b79d-0033040410c6",
   "metadata": {},
   "outputs": [
    {
     "name": "stdout",
     "output_type": "stream",
     "text": [
      "Library Management system\n",
      "Enter 1 to check avaliable book\n",
      "Enter 2 to borrow book\n",
      "Enter 3 to return book\n",
      "Enter 4 to add new book\n",
      "Enter 5 to Exit\n",
      "\n",
      "\n"
     ]
    },
    {
     "name": "stdin",
     "output_type": "stream",
     "text": [
      "Enter the choice 1\n"
     ]
    },
    {
     "name": "stdout",
     "output_type": "stream",
     "text": [
      "story\n",
      "horror\n",
      "science\n",
      "arts\n",
      "\n",
      "\n",
      "Library Management system\n",
      "Enter 1 to check avaliable book\n",
      "Enter 2 to borrow book\n",
      "Enter 3 to return book\n",
      "Enter 4 to add new book\n",
      "Enter 5 to Exit\n",
      "\n",
      "\n"
     ]
    },
    {
     "name": "stdin",
     "output_type": "stream",
     "text": [
      "Enter the choice 2\n"
     ]
    },
    {
     "name": "stdout",
     "output_type": "stream",
     "text": [
      "Library Management system\n",
      "Enter 1 to check avaliable book\n",
      "Enter 2 to borrow book\n",
      "Enter 3 to return book\n",
      "Enter 4 to add new book\n",
      "Enter 5 to Exit\n",
      "\n",
      "\n"
     ]
    },
    {
     "name": "stdin",
     "output_type": "stream",
     "text": [
      "Enter the choice 3\n",
      "Enter the book name arts\n"
     ]
    },
    {
     "name": "stdout",
     "output_type": "stream",
     "text": [
      "book arts is returned sucessfully\n",
      "Library Management system\n",
      "Enter 1 to check avaliable book\n",
      "Enter 2 to borrow book\n",
      "Enter 3 to return book\n",
      "Enter 4 to add new book\n",
      "Enter 5 to Exit\n",
      "\n",
      "\n"
     ]
    },
    {
     "name": "stdin",
     "output_type": "stream",
     "text": [
      "Enter the choice 4\n",
      "Enter the book name: Kannishkar\n"
     ]
    },
    {
     "name": "stdout",
     "output_type": "stream",
     "text": [
      "The book Kannishkar was added sucessfully on 2025-04-09\n",
      "Library Management system\n",
      "Enter 1 to check avaliable book\n",
      "Enter 2 to borrow book\n",
      "Enter 3 to return book\n",
      "Enter 4 to add new book\n",
      "Enter 5 to Exit\n",
      "\n",
      "\n"
     ]
    },
    {
     "name": "stdin",
     "output_type": "stream",
     "text": [
      "Enter the choice 5\n"
     ]
    },
    {
     "name": "stdout",
     "output_type": "stream",
     "text": [
      "Thank you visit again\n"
     ]
    }
   ],
   "source": [
    "class library:\n",
    "    def __init__(self):\n",
    "        self.name=['story','horror','science','arts']\n",
    "\n",
    "    def add_books(self):\n",
    "        self.add_book=input('Enter the book name:')\n",
    "        self.name.append(self.add_book)\n",
    "        print(f'The book {self.add_book} was added sucessfully on {dt.date.today()}')\n",
    "\n",
    "    def borrow_book(self):\n",
    "        name1=input('Enter the book name:')\n",
    "        self.take_book=input('Enter the book name:')\n",
    "        if self.take_book in self.name:\n",
    "\n",
    "            self.name.remove(self.take_book)\n",
    "            print(f'book {self.take_book} borrowed by {name1} at {dt.date.today()}')\n",
    "\n",
    "        else:\n",
    "            print('It seems the book you entered is not available')\n",
    "\n",
    "    def available_book(self):\n",
    "        if self.name: # True if we have some values inside the list\n",
    "                      #false if we don't have any values inside the list \n",
    "            for i in self.name:#['story','horror','science','arts']\n",
    "                print(i)\n",
    "\n",
    "            print('\\n')\n",
    "\n",
    "        else:\n",
    "            print('There is no books')\n",
    "\n",
    "    def return_books(self):\n",
    "        self.add_=input('Enter the book name')\n",
    "        self.name.append(self.add_)\n",
    "        print(f\"book {self.add_} is returned sucessfully\")\n",
    "\n",
    "def main():\n",
    "    objective1=library()\n",
    "    while True:\n",
    "        print('Library Management system')\n",
    "        print('Enter 1 to check avaliable book')\n",
    "        print('Enter 2 to borrow book')\n",
    "        print('Enter 3 to return book')\n",
    "        print('Enter 4 to add new book')\n",
    "        print('Enter 5 to Exit')\n",
    "        print('\\n')\n",
    "\n",
    "    \n",
    "        a=int(input('Enter the choice'))\n",
    "\n",
    "        if a==1:\n",
    "            objective1.available_book()\n",
    "\n",
    "        elif a==2:\n",
    "            objective1.borrow_book\n",
    "\n",
    "        elif a==3:\n",
    "             objective1.return_books()\n",
    "\n",
    "        elif a==4:\n",
    "            objective1.add_books()\n",
    "\n",
    "        elif a==5:\n",
    "            print(\"Thank you visit again\")\n",
    "            break\n",
    "\n",
    "        else:\n",
    "            print(\"invalid entry , try again\")\n",
    "\n",
    "main()\n",
    "            \n",
    "           \n",
    "\n",
    "        \n"
   ]
  },
  {
   "cell_type": "code",
   "execution_count": 4,
   "id": "aee76704-b0ce-4270-b227-8d7388a23404",
   "metadata": {},
   "outputs": [
    {
     "name": "stdout",
     "output_type": "stream",
     "text": [
      "Deposited ₹500. New balance: ₹1500\n",
      "Withdrawn ₹300. New balance: ₹1200\n",
      "Incorrect password. Access denied.\n"
     ]
    }
   ],
   "source": [
    "class Bank:\n",
    "    def __init__(self, initial_balance, password):\n",
    "        self.balance = initial_balance\n",
    "        self.password = password\n",
    "\n",
    "    def verify_password(self, input_password):\n",
    "        return self.password == input_password\n",
    "\n",
    "    def deposit(self, amount, input_password):\n",
    "        if self.verify_password(input_password):\n",
    "            if amount > 0:\n",
    "                self.balance += amount\n",
    "                print(f\"Deposited ₹{amount}. New balance: ₹{self.balance}\")\n",
    "            else:\n",
    "                print(\"Invalid deposit amount.\")\n",
    "        else:\n",
    "            print(\"Incorrect password. Access denied.\")\n",
    "\n",
    "    def withdraw(self, amount, input_password):\n",
    "        if self.verify_password(input_password):\n",
    "            if 0 < amount <= self.balance:\n",
    "                self.balance -= amount\n",
    "                print(f\"Withdrawn ₹{amount}. New balance: ₹{self.balance}\")\n",
    "            else:\n",
    "                print(\"Invalid amount or insufficient balance.\")\n",
    "        else:\n",
    "            print(\"Incorrect password. Access denied.\")\n",
    "\n",
    "    def check_balance(self, input_password):\n",
    "        if self.verify_password(input_password):\n",
    "            print(f\"Current balance: ₹{self.balance}\")\n",
    "        else:\n",
    "            print(\"Incorrect password. Access denied.\")\n",
    "\n",
    "\n",
    "# Example usage:\n",
    "my_account = Bank(initial_balance=1000, password=\"secure123\")\n",
    "\n",
    "# Operations\n",
    "my_account.deposit(500, \"secure123\")      # Correct password\n",
    "my_account.withdraw(300, \"secure123\")     # Correct password\n",
    "my_account.check_balance(\"wrongpass\")     # Incorrect password\n"
   ]
  },
  {
   "cell_type": "markdown",
   "id": "141e8f82-6d00-4f25-a9a5-4f232ee905c1",
   "metadata": {},
   "source": [
    "### Numpy"
   ]
  },
  {
   "cell_type": "code",
   "execution_count": 7,
   "id": "55386f15-7494-402b-aab8-14ad58f21dd4",
   "metadata": {},
   "outputs": [],
   "source": [
    "import numpy as np\n",
    "import sys\n",
    "import time"
   ]
  },
  {
   "cell_type": "markdown",
   "id": "42fcc7d6-3bc3-46bc-9a78-3928d12de8df",
   "metadata": {},
   "source": [
    "### Import  Necessary Libraries"
   ]
  },
  {
   "cell_type": "code",
   "execution_count": 4,
   "id": "26eab2e1-a04b-4c55-9d62-d68c1996baa8",
   "metadata": {},
   "outputs": [
    {
     "data": {
      "text/plain": [
       "[4, 6, 8, 10]"
      ]
     },
     "execution_count": 4,
     "metadata": {},
     "output_type": "execute_result"
    }
   ],
   "source": [
    "a=[1,2,3,4]\n",
    "b=[3,4,5,6]\n",
    "c=[]\n",
    "for i in range (0,len(a)):\n",
    "   c.append(a[i]+b[i])\n",
    "\n",
    "c"
   ]
  },
  {
   "cell_type": "code",
   "execution_count": 7,
   "id": "479f0eb8-e62c-4638-a0a9-eb1f46f63386",
   "metadata": {},
   "outputs": [
    {
     "data": {
      "text/plain": [
       "array([ 6,  8, 10, 12])"
      ]
     },
     "execution_count": 7,
     "metadata": {},
     "output_type": "execute_result"
    }
   ],
   "source": [
    "a=np.array([1,2,3,4])\n",
    "b=np.array([5,6,7,8])\n",
    "a+b"
   ]
  },
  {
   "cell_type": "markdown",
   "id": "aa2695af-7484-4616-8d59-8e971fd9e950",
   "metadata": {},
   "source": [
    "### Multidimesnsional array"
   ]
  },
  {
   "cell_type": "code",
   "execution_count": 11,
   "id": "1f0caf21-3ab7-4f23-9bd2-581bc4e4bb82",
   "metadata": {},
   "outputs": [
    {
     "name": "stdout",
     "output_type": "stream",
     "text": [
      "1\n",
      "2\n"
     ]
    },
    {
     "data": {
      "text/plain": [
       "3"
      ]
     },
     "execution_count": 11,
     "metadata": {},
     "output_type": "execute_result"
    }
   ],
   "source": [
    "a1=np.array([1,2,3,4,5,6])\n",
    "b2=np.array([2,3,4,2,3,4])\n",
    "print(a1.ndim)\n",
    "\n",
    "a2=np.array([[1,2,3],\n",
    "             [4,5,6]])\n",
    "b2=np.array([[2,3],\n",
    "             [3,2]])\n",
    "\n",
    "print(a2.ndim)\n",
    "\n",
    "b3=np.array([[[2,3],[3,2]],[[5,3],[6,2]]])\n",
    "b3.ndim"
   ]
  },
  {
   "cell_type": "markdown",
   "id": "279800a2-f575-4ac2-8dc5-d3feb06074da",
   "metadata": {},
   "source": [
    "### for one dimensional array"
   ]
  },
  {
   "cell_type": "code",
   "execution_count": 9,
   "id": "8760478a-fdf9-48cf-bc55-9403b8e43fb9",
   "metadata": {},
   "outputs": [
    {
     "name": "stdout",
     "output_type": "stream",
     "text": [
      "Maximum value in the array 6\n",
      "minimum value in the array 1\n",
      "mean value 3.5\n",
      "Sum of the array 21\n",
      "product of the array 720\n",
      "Index of the minimum value 0\n",
      "Index of the maximum value 5\n",
      "To check the dimension of the array 1\n",
      "To check the shape of the array (6,)\n",
      "To check the datatype of the array int32\n",
      "To check the shape of the array 6\n"
     ]
    }
   ],
   "source": [
    "a=np.array([1,2,3,4,5,6])\n",
    "\n",
    "\n",
    "print(\"Maximum value in the array\" ,a.max())\n",
    "print(\"minimum value in the array\" ,a.min())\n",
    "print (\"mean value\", a.mean())\n",
    "print (\"Sum of the array\",a. sum())\n",
    "print(\"product of the array\",a. prod())\n",
    "print(\"Index of the minimum value\",a. argmin())\n",
    "print(\"Index of the maximum value\" ,a.argmax())\n",
    "print(\"To check the dimension of the array\",a.ndim)\n",
    "print(\"To check the shape of the array\",a. shape)\n",
    "print(\"To check the datatype of the array\" ,a.dtype)\n",
    "print(\"To check the shape of the array\",a.size)"
   ]
  },
  {
   "cell_type": "markdown",
   "id": "a695159f-27e3-472f-adcc-bde95a45ef39",
   "metadata": {},
   "source": [
    "####  For two dimensional array"
   ]
  },
  {
   "cell_type": "code",
   "execution_count": 11,
   "id": "2f858bfe-7178-4399-890b-a4e35e349e02",
   "metadata": {},
   "outputs": [
    {
     "name": "stdout",
     "output_type": "stream",
     "text": [
      "To check the shape of the array (3, 3)\n"
     ]
    }
   ],
   "source": [
    "a_2d=np.array([[1,2,3],\n",
    "               [4,5,6],\n",
    "               [7,8,9]])\n",
    "print(\"To check the shape of the array\",a_2d.shape)"
   ]
  },
  {
   "cell_type": "code",
   "execution_count": 12,
   "id": "8842fbf0-cff9-427e-a404-246649f1292c",
   "metadata": {},
   "outputs": [
    {
     "data": {
      "text/plain": [
       "array([[1],\n",
       "       [2],\n",
       "       [3],\n",
       "       [4],\n",
       "       [5],\n",
       "       [6],\n",
       "       [7],\n",
       "       [8],\n",
       "       [9]])"
      ]
     },
     "execution_count": 12,
     "metadata": {},
     "output_type": "execute_result"
    }
   ],
   "source": [
    "a_2d.reshape(9,1)"
   ]
  },
  {
   "cell_type": "code",
   "execution_count": 13,
   "id": "799a8de1-972d-42f1-a861-b29d011ca501",
   "metadata": {},
   "outputs": [
    {
     "data": {
      "text/plain": [
       "array([1, 2, 3, 4, 5, 6, 7, 8, 9])"
      ]
     },
     "execution_count": 13,
     "metadata": {},
     "output_type": "execute_result"
    }
   ],
   "source": [
    "a_2d.reshape(-1)"
   ]
  },
  {
   "cell_type": "code",
   "execution_count": 14,
   "id": "c9e3458d-abad-4b1f-b0dc-23012906668f",
   "metadata": {},
   "outputs": [
    {
     "name": "stdout",
     "output_type": "stream",
     "text": [
      "[[2 3]\n",
      " [4 2]\n",
      " [3 4]]\n"
     ]
    },
    {
     "data": {
      "text/plain": [
       "array([[2, 3, 4],\n",
       "       [2, 3, 4]])"
      ]
     },
     "execution_count": 14,
     "metadata": {},
     "output_type": "execute_result"
    }
   ],
   "source": [
    "b=np.array([2,3,4,2,3,4])\n",
    "\n",
    "print(b.reshape(3,2))\n",
    "b.reshape(2,3)"
   ]
  },
  {
   "cell_type": "markdown",
   "id": "7dd911b7-bc1a-407a-840d-8e4495cad50f",
   "metadata": {},
   "source": [
    "### reason why list is slow as compared to Numpy"
   ]
  },
  {
   "cell_type": "code",
   "execution_count": 16,
   "id": "610f4453-158c-4e5f-bc88-8316776213bf",
   "metadata": {},
   "outputs": [
    {
     "name": "stdout",
     "output_type": "stream",
     "text": [
      "['a', 1, 3.2]\n"
     ]
    },
    {
     "data": {
      "text/plain": [
       "array([1. , 2.2, 3. ])"
      ]
     },
     "execution_count": 16,
     "metadata": {},
     "output_type": "execute_result"
    }
   ],
   "source": [
    "List=['a',1,3.2]\n",
    "print(List)\n",
    "\n",
    "a=np.array([1,2.2,3])\n",
    "a"
   ]
  },
  {
   "cell_type": "markdown",
   "id": "c8f8d9ef-f5cc-4083-95dc-260f5899d92f",
   "metadata": {},
   "source": [
    "### Basic operation in numpy"
   ]
  },
  {
   "cell_type": "code",
   "execution_count": 17,
   "id": "936398ce-4568-4244-9606-905427ab80d1",
   "metadata": {},
   "outputs": [
    {
     "data": {
      "text/plain": [
       "array([[0., 0., 0., 0.],\n",
       "       [0., 0., 0., 0.],\n",
       "       [0., 0., 0., 0.]])"
      ]
     },
     "execution_count": 17,
     "metadata": {},
     "output_type": "execute_result"
    }
   ],
   "source": [
    "np.zeros((3,4))"
   ]
  },
  {
   "cell_type": "code",
   "execution_count": 18,
   "id": "9035c4ba-8c53-44e7-8c6d-a4d0acac79cf",
   "metadata": {},
   "outputs": [
    {
     "data": {
      "text/plain": [
       "array([[1, 1, 1, 1],\n",
       "       [1, 1, 1, 1],\n",
       "       [1, 1, 1, 1]], dtype=int64)"
      ]
     },
     "execution_count": 18,
     "metadata": {},
     "output_type": "execute_result"
    }
   ],
   "source": [
    "np.ones((3,4),dtype='int64')"
   ]
  },
  {
   "cell_type": "markdown",
   "id": "36d06bdc-5d41-4d3d-95f5-73bb48626d92",
   "metadata": {},
   "source": [
    "### Slicing the array in numpy"
   ]
  },
  {
   "cell_type": "code",
   "execution_count": 19,
   "id": "e62f9cd8-0755-4d06-99f1-a37cdb38170d",
   "metadata": {},
   "outputs": [
    {
     "data": {
      "text/plain": [
       "[1, 4]"
      ]
     },
     "execution_count": 19,
     "metadata": {},
     "output_type": "execute_result"
    }
   ],
   "source": [
    "a=[1,2,3,4,5]\n",
    "a[0:7:3]"
   ]
  },
  {
   "cell_type": "code",
   "execution_count": 20,
   "id": "6bfb3ebf-0d67-4120-add2-7118fcbf3fb2",
   "metadata": {},
   "outputs": [
    {
     "name": "stdout",
     "output_type": "stream",
     "text": [
      "2\n",
      "[2 4 6]\n",
      "[1 2 3]\n",
      "8\n",
      "[6 7]\n",
      "5\n"
     ]
    }
   ],
   "source": [
    "a=np.array([1,2,3,4,5,6,7,8])\n",
    "print(a[1])\n",
    "print(a[1:6:2])\n",
    "print(a[0:3])\n",
    "print(a[-1])\n",
    "print(a[-3:-1])\n",
    "print(a[-4])"
   ]
  },
  {
   "cell_type": "code",
   "execution_count": 22,
   "id": "675c810c-1adb-4db5-a259-3b3faaa622ac",
   "metadata": {},
   "outputs": [
    {
     "name": "stdout",
     "output_type": "stream",
     "text": [
      "21\n",
      "[12 34]\n",
      "[34 21 87]\n",
      "[[12 34]\n",
      " [34 21]]\n"
     ]
    }
   ],
   "source": [
    "a=np.array([[12,34,54],#0\n",
    "            [34,21,56],#1\n",
    "            [23,87,89]])#2\n",
    "print(a[1,1])\n",
    "print(a[0,0:2])\n",
    "print(a[0:3,1])\n",
    "print(a[0:2,0:2])\n"
   ]
  },
  {
   "cell_type": "markdown",
   "id": "20a4ea2c-e09a-4265-9a62-95a224d31e66",
   "metadata": {},
   "source": [
    "### Python list vs numpy"
   ]
  },
  {
   "cell_type": "markdown",
   "id": "59577482-9496-4310-b258-d21ae34bfa1e",
   "metadata": {},
   "source": [
    "### size comparision b/w numpy and list"
   ]
  },
  {
   "cell_type": "code",
   "execution_count": 10,
   "id": "cb7162d5-9254-4380-8b8e-94830b40f26e",
   "metadata": {},
   "outputs": [
    {
     "name": "stdout",
     "output_type": "stream",
     "text": [
      "shape of python list 28000\n",
      "shape of numpy array 4000\n"
     ]
    }
   ],
   "source": [
    "l=list(range(1000))\n",
    "print(\"shape of python list\",sys.getsizeof(9)*len(l))\n",
    "\n",
    "a=np.arange(1000)\n",
    "print(\"shape of numpy array\",a.itemsize*len(a))"
   ]
  },
  {
   "cell_type": "markdown",
   "id": "fd47913e-0e0a-442b-84ec-f0ffbbe56719",
   "metadata": {},
   "source": [
    "### Computation time for array and list"
   ]
  },
  {
   "cell_type": "code",
   "execution_count": 12,
   "id": "b7078ca9-708d-41a8-ab92-94e06b595edc",
   "metadata": {},
   "outputs": [],
   "source": [
    "import time"
   ]
  },
  {
   "cell_type": "code",
   "execution_count": 15,
   "id": "ebb578c5-f442-4f4f-954d-574780855c64",
   "metadata": {},
   "outputs": [
    {
     "data": {
      "text/plain": [
       "0.040463924407958984"
      ]
     },
     "execution_count": 15,
     "metadata": {},
     "output_type": "execute_result"
    }
   ],
   "source": [
    "start=time.time()\n",
    "\n",
    "a=list(range(100000))\n",
    "c=[]\n",
    "for i in a:\n",
    "    c.append(i**2)\n",
    "\n",
    "end=time.time()\n",
    "\n",
    "end-start\n",
    "    "
   ]
  },
  {
   "cell_type": "code",
   "execution_count": 17,
   "id": "f6a7f5e9-e4e8-45b4-bb25-e07ceea3ce8f",
   "metadata": {},
   "outputs": [
    {
     "name": "stdout",
     "output_type": "stream",
     "text": [
      "time taken by array 0.0\n"
     ]
    }
   ],
   "source": [
    "import numpy as np\n",
    "size=10000\n",
    "a1=np.arange(size)\n",
    "a2=np.arange(size)\n",
    "\n",
    "start=time.time()\n",
    "result=a1+a2\n",
    "end=time.time()\n",
    "print(\"time taken by array\",end-start)"
   ]
  },
  {
   "cell_type": "code",
   "execution_count": 20,
   "id": "cbc79f31-3d7a-488d-a5c6-8a81c564b585",
   "metadata": {},
   "outputs": [
    {
     "name": "stdout",
     "output_type": "stream",
     "text": [
      "square root: [1. 2. 3. 4. 5.]\n",
      "log: [0.         1.38629436 2.19722458 2.77258872 3.21887582]\n",
      "sine: [ 0.84147098 -0.7568025   0.41211849 -0.28790332 -0.13235175]\n",
      "absolute: [1 4 3 2]\n"
     ]
    }
   ],
   "source": [
    "arr=np.array([1,4,9,16,25])\n",
    "\n",
    "sqrt_arr=np.sqrt(arr)\n",
    "print(\"square root:\",sqrt_arr)\n",
    "\n",
    "log_arr=np.log(arr)\n",
    "print(\"log:\",log_arr)\n",
    "\n",
    "sin_arr=np.sin(arr)\n",
    "print(\"sine:\",sin_arr)\n",
    "\n",
    "abs_arr=np.abs(np.array([-1,-4,3,-2]))\n",
    "print(\"absolute:\",abs_arr)"
   ]
  },
  {
   "cell_type": "code",
   "execution_count": null,
   "id": "712b72f5-8737-4035-8f0d-ed648a37493a",
   "metadata": {},
   "outputs": [],
   "source": []
  }
 ],
 "metadata": {
  "kernelspec": {
   "display_name": "Python 3 (ipykernel)",
   "language": "python",
   "name": "python3"
  },
  "language_info": {
   "codemirror_mode": {
    "name": "ipython",
    "version": 3
   },
   "file_extension": ".py",
   "mimetype": "text/x-python",
   "name": "python",
   "nbconvert_exporter": "python",
   "pygments_lexer": "ipython3",
   "version": "3.12.7"
  }
 },
 "nbformat": 4,
 "nbformat_minor": 5
}
